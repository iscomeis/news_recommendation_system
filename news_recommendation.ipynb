{
 "cells": [
  {
   "cell_type": "markdown",
   "id": "34a74fe9-490b-49ae-8458-5c33d1f3230f",
   "metadata": {},
   "source": [
    "# **News Recommendation System using Cosine Similarity**\n",
    "\n",
    "- In the era of information overload, analyzing text data has become a crucial task for extracting meaningful insights and enhancing user experience. This project focuses on the application of Natural Language Processing (NLP) techniques to explore the similarities among news. By leveraging the power of cosine similarity, we aim to uncover relationships between different news articles based on their content.\n",
    "\n",
    "- The project utilizes the Term Frequency-Inverse Document Frequency (TF-IDF) vectorization method to transform textual data into numerical format. Following this transformation, cosine similarity is calculated to measure the degree of similarity between different summaries in the dataset. Our dataset comprises news summaries from various categories, providing a rich ground for analysis and exploration.\n",
    "\n",
    "- The dataset can be accessed from [Statso's News Recommendation Case Study](https://statso.io/news-recommendation-case-study/).\n",
    "\n",
    "\n",
    "\n",
    "<div style=\"text-align: center;\">\n",
    "    <img src=\"https://www.datahen.com/blog/content/images/size/w2000/wordpress/2017/07/News-media-standards.jpg\" alt=\"Image\">\n",
    "</div>"
   ]
  },
  {
   "cell_type": "markdown",
   "id": "b36b744b-a980-4dc6-902d-c071b0a96e4c",
   "metadata": {},
   "source": [
    "### Importing the necessary packages"
   ]
  },
  {
   "cell_type": "code",
   "execution_count": 46,
   "id": "270f161c-d48c-4fdf-8a71-70edcf3988c3",
   "metadata": {},
   "outputs": [
    {
     "name": "stderr",
     "output_type": "stream",
     "text": [
      "[nltk_data] Downloading package punkt to stopwords...\n",
      "[nltk_data]   Package punkt is already up-to-date!\n"
     ]
    }
   ],
   "source": [
    "import pandas as pd\n",
    "import plotly.express as px\n",
    "import numpy as np \n",
    "import seaborn as sns\n",
    "import matplotlib.pyplot as plt\n",
    "from scipy import spatial\n",
    "import warnings\n",
    "warnings.filterwarnings('ignore')\n",
    "\n",
    "import re\n",
    "import nltk \n",
    "nltk.download('punkt','stopwords')\n",
    "from nltk.corpus import stopwords\n",
    "import random\n",
    "from nltk.tokenize import word_tokenize\n",
    "from sklearn.feature_extraction.text import TfidfVectorizer\n",
    "from sklearn.metrics.pairwise import cosine_similarity"
   ]
  },
  {
   "cell_type": "markdown",
   "id": "717cf799-e0a5-4c5c-8121-2ac2613d7396",
   "metadata": {},
   "source": [
    "### Importing the data"
   ]
  },
  {
   "cell_type": "code",
   "execution_count": 29,
   "id": "8bd2399c-a6a3-4e72-959c-d3a74a33740a",
   "metadata": {},
   "outputs": [],
   "source": [
    "df = pd.read_csv('News.csv')"
   ]
  },
  {
   "cell_type": "markdown",
   "id": "84ba4312-a187-4c5d-81da-e4f269361dad",
   "metadata": {},
   "source": [
    "### EDA - Exploratoy Data Analysis "
   ]
  },
  {
   "cell_type": "code",
   "execution_count": 30,
   "id": "29a479d9-c925-4293-a243-f35ec3dc5cdd",
   "metadata": {},
   "outputs": [
    {
     "data": {
      "text/html": [
       "<div>\n",
       "<style scoped>\n",
       "    .dataframe tbody tr th:only-of-type {\n",
       "        vertical-align: middle;\n",
       "    }\n",
       "\n",
       "    .dataframe tbody tr th {\n",
       "        vertical-align: top;\n",
       "    }\n",
       "\n",
       "    .dataframe thead th {\n",
       "        text-align: right;\n",
       "    }\n",
       "</style>\n",
       "<table border=\"1\" class=\"dataframe\">\n",
       "  <thead>\n",
       "    <tr style=\"text-align: right;\">\n",
       "      <th></th>\n",
       "      <th>ID</th>\n",
       "      <th>News Category</th>\n",
       "      <th>Title</th>\n",
       "      <th>Summary</th>\n",
       "    </tr>\n",
       "  </thead>\n",
       "  <tbody>\n",
       "    <tr>\n",
       "      <th>0</th>\n",
       "      <td>N88753</td>\n",
       "      <td>lifestyle</td>\n",
       "      <td>The Brands Queen Elizabeth, Prince Charles, an...</td>\n",
       "      <td>Shop the notebooks, jackets, and more that the...</td>\n",
       "    </tr>\n",
       "    <tr>\n",
       "      <th>1</th>\n",
       "      <td>N45436</td>\n",
       "      <td>news</td>\n",
       "      <td>Walmart Slashes Prices on Last-Generation iPads</td>\n",
       "      <td>Apple's new iPad releases bring big deals on l...</td>\n",
       "    </tr>\n",
       "    <tr>\n",
       "      <th>2</th>\n",
       "      <td>N23144</td>\n",
       "      <td>health</td>\n",
       "      <td>50 Worst Habits For Belly Fat</td>\n",
       "      <td>These seemingly harmless habits are holding yo...</td>\n",
       "    </tr>\n",
       "    <tr>\n",
       "      <th>3</th>\n",
       "      <td>N86255</td>\n",
       "      <td>health</td>\n",
       "      <td>Dispose of unwanted prescription drugs during ...</td>\n",
       "      <td>NaN</td>\n",
       "    </tr>\n",
       "    <tr>\n",
       "      <th>4</th>\n",
       "      <td>N93187</td>\n",
       "      <td>news</td>\n",
       "      <td>The Cost of Trump's Aid Freeze in the Trenches...</td>\n",
       "      <td>Lt. Ivan Molchanets peeked over a parapet of s...</td>\n",
       "    </tr>\n",
       "  </tbody>\n",
       "</table>\n",
       "</div>"
      ],
      "text/plain": [
       "       ID News Category                                              Title  \\\n",
       "0  N88753     lifestyle  The Brands Queen Elizabeth, Prince Charles, an...   \n",
       "1  N45436          news    Walmart Slashes Prices on Last-Generation iPads   \n",
       "2  N23144        health                      50 Worst Habits For Belly Fat   \n",
       "3  N86255        health  Dispose of unwanted prescription drugs during ...   \n",
       "4  N93187          news  The Cost of Trump's Aid Freeze in the Trenches...   \n",
       "\n",
       "                                             Summary  \n",
       "0  Shop the notebooks, jackets, and more that the...  \n",
       "1  Apple's new iPad releases bring big deals on l...  \n",
       "2  These seemingly harmless habits are holding yo...  \n",
       "3                                                NaN  \n",
       "4  Lt. Ivan Molchanets peeked over a parapet of s...  "
      ]
     },
     "execution_count": 30,
     "metadata": {},
     "output_type": "execute_result"
    }
   ],
   "source": [
    "df.head()"
   ]
  },
  {
   "cell_type": "code",
   "execution_count": 31,
   "id": "35149874-efa0-4a57-b0dc-887225ba997b",
   "metadata": {},
   "outputs": [
    {
     "data": {
      "text/plain": [
       "(101527, 4)"
      ]
     },
     "execution_count": 31,
     "metadata": {},
     "output_type": "execute_result"
    }
   ],
   "source": [
    "df.shape"
   ]
  },
  {
   "cell_type": "code",
   "execution_count": 32,
   "id": "466a4f45-4680-48d4-8dbc-0daed4f3bc0f",
   "metadata": {},
   "outputs": [
    {
     "name": "stdout",
     "output_type": "stream",
     "text": [
      "<class 'pandas.core.frame.DataFrame'>\n",
      "RangeIndex: 101527 entries, 0 to 101526\n",
      "Data columns (total 4 columns):\n",
      " #   Column         Non-Null Count   Dtype \n",
      "---  ------         --------------   ----- \n",
      " 0   ID             101527 non-null  object\n",
      " 1   News Category  101527 non-null  object\n",
      " 2   Title          101527 non-null  object\n",
      " 3   Summary        96112 non-null   object\n",
      "dtypes: object(4)\n",
      "memory usage: 3.1+ MB\n"
     ]
    }
   ],
   "source": [
    "df.info()"
   ]
  },
  {
   "cell_type": "code",
   "execution_count": 33,
   "id": "9b72961b-03e7-4bab-ae56-6acb505f4ba6",
   "metadata": {},
   "outputs": [
    {
     "data": {
      "text/plain": [
       "ID                  0\n",
       "News Category       0\n",
       "Title               0\n",
       "Summary          5415\n",
       "dtype: int64"
      ]
     },
     "execution_count": 33,
     "metadata": {},
     "output_type": "execute_result"
    }
   ],
   "source": [
    "df.isnull().sum()"
   ]
  },
  {
   "cell_type": "code",
   "execution_count": 34,
   "id": "da773e88-ab01-4657-a9b1-1b112a336c0c",
   "metadata": {},
   "outputs": [
    {
     "data": {
      "application/vnd.plotly.v1+json": {
       "config": {
        "plotlyServerURL": "https://plot.ly"
       },
       "data": [
        {
         "domain": {
          "x": [
           0,
           1
          ],
          "y": [
           0,
           1
          ]
         },
         "hovertemplate": "News Category=%{label}<br>Count=%{value}<extra></extra>",
         "labels": [
          "sports",
          "news",
          "finance",
          "travel",
          "lifestyle",
          "video",
          "foodanddrink",
          "weather",
          "autos",
          "health",
          "tv",
          "music",
          "entertainment",
          "movies",
          "kids",
          "middleeast",
          "games",
          "northamerica"
         ],
         "legendgroup": "",
         "name": "",
         "showlegend": true,
         "textfont": {
          "size": 15
         },
         "textinfo": "percent+label",
         "type": "pie",
         "values": [
          32020,
          30478,
          5916,
          4955,
          4570,
          4569,
          4418,
          4255,
          3071,
          2929,
          1323,
          1263,
          837,
          815,
          104,
          2,
          1,
          1
         ]
        }
       ],
       "layout": {
        "height": 800,
        "legend": {
         "title": {
          "text": "Categories"
         },
         "tracegroupgap": 0
        },
        "piecolorway": [
         "rgb(141,211,199)",
         "rgb(255,255,179)",
         "rgb(190,186,218)",
         "rgb(251,128,114)",
         "rgb(128,177,211)",
         "rgb(253,180,98)",
         "rgb(179,222,105)",
         "rgb(252,205,229)",
         "rgb(217,217,217)",
         "rgb(188,128,189)",
         "rgb(204,235,197)",
         "rgb(255,237,111)"
        ],
        "template": {
         "data": {
          "bar": [
           {
            "error_x": {
             "color": "#2a3f5f"
            },
            "error_y": {
             "color": "#2a3f5f"
            },
            "marker": {
             "line": {
              "color": "#E5ECF6",
              "width": 0.5
             },
             "pattern": {
              "fillmode": "overlay",
              "size": 10,
              "solidity": 0.2
             }
            },
            "type": "bar"
           }
          ],
          "barpolar": [
           {
            "marker": {
             "line": {
              "color": "#E5ECF6",
              "width": 0.5
             },
             "pattern": {
              "fillmode": "overlay",
              "size": 10,
              "solidity": 0.2
             }
            },
            "type": "barpolar"
           }
          ],
          "carpet": [
           {
            "aaxis": {
             "endlinecolor": "#2a3f5f",
             "gridcolor": "white",
             "linecolor": "white",
             "minorgridcolor": "white",
             "startlinecolor": "#2a3f5f"
            },
            "baxis": {
             "endlinecolor": "#2a3f5f",
             "gridcolor": "white",
             "linecolor": "white",
             "minorgridcolor": "white",
             "startlinecolor": "#2a3f5f"
            },
            "type": "carpet"
           }
          ],
          "choropleth": [
           {
            "colorbar": {
             "outlinewidth": 0,
             "ticks": ""
            },
            "type": "choropleth"
           }
          ],
          "contour": [
           {
            "colorbar": {
             "outlinewidth": 0,
             "ticks": ""
            },
            "colorscale": [
             [
              0,
              "#0d0887"
             ],
             [
              0.1111111111111111,
              "#46039f"
             ],
             [
              0.2222222222222222,
              "#7201a8"
             ],
             [
              0.3333333333333333,
              "#9c179e"
             ],
             [
              0.4444444444444444,
              "#bd3786"
             ],
             [
              0.5555555555555556,
              "#d8576b"
             ],
             [
              0.6666666666666666,
              "#ed7953"
             ],
             [
              0.7777777777777778,
              "#fb9f3a"
             ],
             [
              0.8888888888888888,
              "#fdca26"
             ],
             [
              1,
              "#f0f921"
             ]
            ],
            "type": "contour"
           }
          ],
          "contourcarpet": [
           {
            "colorbar": {
             "outlinewidth": 0,
             "ticks": ""
            },
            "type": "contourcarpet"
           }
          ],
          "heatmap": [
           {
            "colorbar": {
             "outlinewidth": 0,
             "ticks": ""
            },
            "colorscale": [
             [
              0,
              "#0d0887"
             ],
             [
              0.1111111111111111,
              "#46039f"
             ],
             [
              0.2222222222222222,
              "#7201a8"
             ],
             [
              0.3333333333333333,
              "#9c179e"
             ],
             [
              0.4444444444444444,
              "#bd3786"
             ],
             [
              0.5555555555555556,
              "#d8576b"
             ],
             [
              0.6666666666666666,
              "#ed7953"
             ],
             [
              0.7777777777777778,
              "#fb9f3a"
             ],
             [
              0.8888888888888888,
              "#fdca26"
             ],
             [
              1,
              "#f0f921"
             ]
            ],
            "type": "heatmap"
           }
          ],
          "heatmapgl": [
           {
            "colorbar": {
             "outlinewidth": 0,
             "ticks": ""
            },
            "colorscale": [
             [
              0,
              "#0d0887"
             ],
             [
              0.1111111111111111,
              "#46039f"
             ],
             [
              0.2222222222222222,
              "#7201a8"
             ],
             [
              0.3333333333333333,
              "#9c179e"
             ],
             [
              0.4444444444444444,
              "#bd3786"
             ],
             [
              0.5555555555555556,
              "#d8576b"
             ],
             [
              0.6666666666666666,
              "#ed7953"
             ],
             [
              0.7777777777777778,
              "#fb9f3a"
             ],
             [
              0.8888888888888888,
              "#fdca26"
             ],
             [
              1,
              "#f0f921"
             ]
            ],
            "type": "heatmapgl"
           }
          ],
          "histogram": [
           {
            "marker": {
             "pattern": {
              "fillmode": "overlay",
              "size": 10,
              "solidity": 0.2
             }
            },
            "type": "histogram"
           }
          ],
          "histogram2d": [
           {
            "colorbar": {
             "outlinewidth": 0,
             "ticks": ""
            },
            "colorscale": [
             [
              0,
              "#0d0887"
             ],
             [
              0.1111111111111111,
              "#46039f"
             ],
             [
              0.2222222222222222,
              "#7201a8"
             ],
             [
              0.3333333333333333,
              "#9c179e"
             ],
             [
              0.4444444444444444,
              "#bd3786"
             ],
             [
              0.5555555555555556,
              "#d8576b"
             ],
             [
              0.6666666666666666,
              "#ed7953"
             ],
             [
              0.7777777777777778,
              "#fb9f3a"
             ],
             [
              0.8888888888888888,
              "#fdca26"
             ],
             [
              1,
              "#f0f921"
             ]
            ],
            "type": "histogram2d"
           }
          ],
          "histogram2dcontour": [
           {
            "colorbar": {
             "outlinewidth": 0,
             "ticks": ""
            },
            "colorscale": [
             [
              0,
              "#0d0887"
             ],
             [
              0.1111111111111111,
              "#46039f"
             ],
             [
              0.2222222222222222,
              "#7201a8"
             ],
             [
              0.3333333333333333,
              "#9c179e"
             ],
             [
              0.4444444444444444,
              "#bd3786"
             ],
             [
              0.5555555555555556,
              "#d8576b"
             ],
             [
              0.6666666666666666,
              "#ed7953"
             ],
             [
              0.7777777777777778,
              "#fb9f3a"
             ],
             [
              0.8888888888888888,
              "#fdca26"
             ],
             [
              1,
              "#f0f921"
             ]
            ],
            "type": "histogram2dcontour"
           }
          ],
          "mesh3d": [
           {
            "colorbar": {
             "outlinewidth": 0,
             "ticks": ""
            },
            "type": "mesh3d"
           }
          ],
          "parcoords": [
           {
            "line": {
             "colorbar": {
              "outlinewidth": 0,
              "ticks": ""
             }
            },
            "type": "parcoords"
           }
          ],
          "pie": [
           {
            "automargin": true,
            "type": "pie"
           }
          ],
          "scatter": [
           {
            "fillpattern": {
             "fillmode": "overlay",
             "size": 10,
             "solidity": 0.2
            },
            "type": "scatter"
           }
          ],
          "scatter3d": [
           {
            "line": {
             "colorbar": {
              "outlinewidth": 0,
              "ticks": ""
             }
            },
            "marker": {
             "colorbar": {
              "outlinewidth": 0,
              "ticks": ""
             }
            },
            "type": "scatter3d"
           }
          ],
          "scattercarpet": [
           {
            "marker": {
             "colorbar": {
              "outlinewidth": 0,
              "ticks": ""
             }
            },
            "type": "scattercarpet"
           }
          ],
          "scattergeo": [
           {
            "marker": {
             "colorbar": {
              "outlinewidth": 0,
              "ticks": ""
             }
            },
            "type": "scattergeo"
           }
          ],
          "scattergl": [
           {
            "marker": {
             "colorbar": {
              "outlinewidth": 0,
              "ticks": ""
             }
            },
            "type": "scattergl"
           }
          ],
          "scattermapbox": [
           {
            "marker": {
             "colorbar": {
              "outlinewidth": 0,
              "ticks": ""
             }
            },
            "type": "scattermapbox"
           }
          ],
          "scatterpolar": [
           {
            "marker": {
             "colorbar": {
              "outlinewidth": 0,
              "ticks": ""
             }
            },
            "type": "scatterpolar"
           }
          ],
          "scatterpolargl": [
           {
            "marker": {
             "colorbar": {
              "outlinewidth": 0,
              "ticks": ""
             }
            },
            "type": "scatterpolargl"
           }
          ],
          "scatterternary": [
           {
            "marker": {
             "colorbar": {
              "outlinewidth": 0,
              "ticks": ""
             }
            },
            "type": "scatterternary"
           }
          ],
          "surface": [
           {
            "colorbar": {
             "outlinewidth": 0,
             "ticks": ""
            },
            "colorscale": [
             [
              0,
              "#0d0887"
             ],
             [
              0.1111111111111111,
              "#46039f"
             ],
             [
              0.2222222222222222,
              "#7201a8"
             ],
             [
              0.3333333333333333,
              "#9c179e"
             ],
             [
              0.4444444444444444,
              "#bd3786"
             ],
             [
              0.5555555555555556,
              "#d8576b"
             ],
             [
              0.6666666666666666,
              "#ed7953"
             ],
             [
              0.7777777777777778,
              "#fb9f3a"
             ],
             [
              0.8888888888888888,
              "#fdca26"
             ],
             [
              1,
              "#f0f921"
             ]
            ],
            "type": "surface"
           }
          ],
          "table": [
           {
            "cells": {
             "fill": {
              "color": "#EBF0F8"
             },
             "line": {
              "color": "white"
             }
            },
            "header": {
             "fill": {
              "color": "#C8D4E3"
             },
             "line": {
              "color": "white"
             }
            },
            "type": "table"
           }
          ]
         },
         "layout": {
          "annotationdefaults": {
           "arrowcolor": "#2a3f5f",
           "arrowhead": 0,
           "arrowwidth": 1
          },
          "autotypenumbers": "strict",
          "coloraxis": {
           "colorbar": {
            "outlinewidth": 0,
            "ticks": ""
           }
          },
          "colorscale": {
           "diverging": [
            [
             0,
             "#8e0152"
            ],
            [
             0.1,
             "#c51b7d"
            ],
            [
             0.2,
             "#de77ae"
            ],
            [
             0.3,
             "#f1b6da"
            ],
            [
             0.4,
             "#fde0ef"
            ],
            [
             0.5,
             "#f7f7f7"
            ],
            [
             0.6,
             "#e6f5d0"
            ],
            [
             0.7,
             "#b8e186"
            ],
            [
             0.8,
             "#7fbc41"
            ],
            [
             0.9,
             "#4d9221"
            ],
            [
             1,
             "#276419"
            ]
           ],
           "sequential": [
            [
             0,
             "#0d0887"
            ],
            [
             0.1111111111111111,
             "#46039f"
            ],
            [
             0.2222222222222222,
             "#7201a8"
            ],
            [
             0.3333333333333333,
             "#9c179e"
            ],
            [
             0.4444444444444444,
             "#bd3786"
            ],
            [
             0.5555555555555556,
             "#d8576b"
            ],
            [
             0.6666666666666666,
             "#ed7953"
            ],
            [
             0.7777777777777778,
             "#fb9f3a"
            ],
            [
             0.8888888888888888,
             "#fdca26"
            ],
            [
             1,
             "#f0f921"
            ]
           ],
           "sequentialminus": [
            [
             0,
             "#0d0887"
            ],
            [
             0.1111111111111111,
             "#46039f"
            ],
            [
             0.2222222222222222,
             "#7201a8"
            ],
            [
             0.3333333333333333,
             "#9c179e"
            ],
            [
             0.4444444444444444,
             "#bd3786"
            ],
            [
             0.5555555555555556,
             "#d8576b"
            ],
            [
             0.6666666666666666,
             "#ed7953"
            ],
            [
             0.7777777777777778,
             "#fb9f3a"
            ],
            [
             0.8888888888888888,
             "#fdca26"
            ],
            [
             1,
             "#f0f921"
            ]
           ]
          },
          "colorway": [
           "#636efa",
           "#EF553B",
           "#00cc96",
           "#ab63fa",
           "#FFA15A",
           "#19d3f3",
           "#FF6692",
           "#B6E880",
           "#FF97FF",
           "#FECB52"
          ],
          "font": {
           "color": "#2a3f5f"
          },
          "geo": {
           "bgcolor": "white",
           "lakecolor": "white",
           "landcolor": "#E5ECF6",
           "showlakes": true,
           "showland": true,
           "subunitcolor": "white"
          },
          "hoverlabel": {
           "align": "left"
          },
          "hovermode": "closest",
          "mapbox": {
           "style": "light"
          },
          "paper_bgcolor": "white",
          "plot_bgcolor": "#E5ECF6",
          "polar": {
           "angularaxis": {
            "gridcolor": "white",
            "linecolor": "white",
            "ticks": ""
           },
           "bgcolor": "#E5ECF6",
           "radialaxis": {
            "gridcolor": "white",
            "linecolor": "white",
            "ticks": ""
           }
          },
          "scene": {
           "xaxis": {
            "backgroundcolor": "#E5ECF6",
            "gridcolor": "white",
            "gridwidth": 2,
            "linecolor": "white",
            "showbackground": true,
            "ticks": "",
            "zerolinecolor": "white"
           },
           "yaxis": {
            "backgroundcolor": "#E5ECF6",
            "gridcolor": "white",
            "gridwidth": 2,
            "linecolor": "white",
            "showbackground": true,
            "ticks": "",
            "zerolinecolor": "white"
           },
           "zaxis": {
            "backgroundcolor": "#E5ECF6",
            "gridcolor": "white",
            "gridwidth": 2,
            "linecolor": "white",
            "showbackground": true,
            "ticks": "",
            "zerolinecolor": "white"
           }
          },
          "shapedefaults": {
           "line": {
            "color": "#2a3f5f"
           }
          },
          "ternary": {
           "aaxis": {
            "gridcolor": "white",
            "linecolor": "white",
            "ticks": ""
           },
           "baxis": {
            "gridcolor": "white",
            "linecolor": "white",
            "ticks": ""
           },
           "bgcolor": "#E5ECF6",
           "caxis": {
            "gridcolor": "white",
            "linecolor": "white",
            "ticks": ""
           }
          },
          "title": {
           "x": 0.05
          },
          "xaxis": {
           "automargin": true,
           "gridcolor": "white",
           "linecolor": "white",
           "ticks": "",
           "title": {
            "standoff": 15
           },
           "zerolinecolor": "white",
           "zerolinewidth": 2
          },
          "yaxis": {
           "automargin": true,
           "gridcolor": "white",
           "linecolor": "white",
           "ticks": "",
           "title": {
            "standoff": 15
           },
           "zerolinecolor": "white",
           "zerolinewidth": 2
          }
         }
        },
        "title": {
         "font": {
          "color": "black",
          "size": 24
         },
         "text": "Distribution of News Categories"
        },
        "width": 1000
       }
      },
      "image/png": "[encoded data removed]",
      "text/html": [
       "<div>                            <div id=\"5e89481c-5a31-42cd-8fab-1732277269e3\" class=\"plotly-graph-div\" style=\"height:800px; width:1000px;\"></div>            <script type=\"text/javascript\">                require([\"plotly\"], function(Plotly) {                    window.PLOTLYENV=window.PLOTLYENV || {};                                    if (document.getElementById(\"5e89481c-5a31-42cd-8fab-1732277269e3\")) {                    Plotly.newPlot(                        \"5e89481c-5a31-42cd-8fab-1732277269e3\",                        [{\"domain\":{\"x\":[0.0,1.0],\"y\":[0.0,1.0]},\"hovertemplate\":\"News Category=%{label}\\u003cbr\\u003eCount=%{value}\\u003cextra\\u003e\\u003c\\u002fextra\\u003e\",\"labels\":[\"sports\",\"news\",\"finance\",\"travel\",\"lifestyle\",\"video\",\"foodanddrink\",\"weather\",\"autos\",\"health\",\"tv\",\"music\",\"entertainment\",\"movies\",\"kids\",\"middleeast\",\"games\",\"northamerica\"],\"legendgroup\":\"\",\"name\":\"\",\"showlegend\":true,\"values\":[32020,30478,5916,4955,4570,4569,4418,4255,3071,2929,1323,1263,837,815,104,2,1,1],\"type\":\"pie\",\"textfont\":{\"size\":15},\"textinfo\":\"percent+label\"}],                        {\"template\":{\"data\":{\"histogram2dcontour\":[{\"type\":\"histogram2dcontour\",\"colorbar\":{\"outlinewidth\":0,\"ticks\":\"\"},\"colorscale\":[[0.0,\"#0d0887\"],[0.1111111111111111,\"#46039f\"],[0.2222222222222222,\"#7201a8\"],[0.3333333333333333,\"#9c179e\"],[0.4444444444444444,\"#bd3786\"],[0.5555555555555556,\"#d8576b\"],[0.6666666666666666,\"#ed7953\"],[0.7777777777777778,\"#fb9f3a\"],[0.8888888888888888,\"#fdca26\"],[1.0,\"#f0f921\"]]}],\"choropleth\":[{\"type\":\"choropleth\",\"colorbar\":{\"outlinewidth\":0,\"ticks\":\"\"}}],\"histogram2d\":[{\"type\":\"histogram2d\",\"colorbar\":{\"outlinewidth\":0,\"ticks\":\"\"},\"colorscale\":[[0.0,\"#0d0887\"],[0.1111111111111111,\"#46039f\"],[0.2222222222222222,\"#7201a8\"],[0.3333333333333333,\"#9c179e\"],[0.4444444444444444,\"#bd3786\"],[0.5555555555555556,\"#d8576b\"],[0.6666666666666666,\"#ed7953\"],[0.7777777777777778,\"#fb9f3a\"],[0.8888888888888888,\"#fdca26\"],[1.0,\"#f0f921\"]]}],\"heatmap\":[{\"type\":\"heatmap\",\"colorbar\":{\"outlinewidth\":0,\"ticks\":\"\"},\"colorscale\":[[0.0,\"#0d0887\"],[0.1111111111111111,\"#46039f\"],[0.2222222222222222,\"#7201a8\"],[0.3333333333333333,\"#9c179e\"],[0.4444444444444444,\"#bd3786\"],[0.5555555555555556,\"#d8576b\"],[0.6666666666666666,\"#ed7953\"],[0.7777777777777778,\"#fb9f3a\"],[0.8888888888888888,\"#fdca26\"],[1.0,\"#f0f921\"]]}],\"heatmapgl\":[{\"type\":\"heatmapgl\",\"colorbar\":{\"outlinewidth\":0,\"ticks\":\"\"},\"colorscale\":[[0.0,\"#0d0887\"],[0.1111111111111111,\"#46039f\"],[0.2222222222222222,\"#7201a8\"],[0.3333333333333333,\"#9c179e\"],[0.4444444444444444,\"#bd3786\"],[0.5555555555555556,\"#d8576b\"],[0.6666666666666666,\"#ed7953\"],[0.7777777777777778,\"#fb9f3a\"],[0.8888888888888888,\"#fdca26\"],[1.0,\"#f0f921\"]]}],\"contourcarpet\":[{\"type\":\"contourcarpet\",\"colorbar\":{\"outlinewidth\":0,\"ticks\":\"\"}}],\"contour\":[{\"type\":\"contour\",\"colorbar\":{\"outlinewidth\":0,\"ticks\":\"\"},\"colorscale\":[[0.0,\"#0d0887\"],[0.1111111111111111,\"#46039f\"],[0.2222222222222222,\"#7201a8\"],[0.3333333333333333,\"#9c179e\"],[0.4444444444444444,\"#bd3786\"],[0.5555555555555556,\"#d8576b\"],[0.6666666666666666,\"#ed7953\"],[0.7777777777777778,\"#fb9f3a\"],[0.8888888888888888,\"#fdca26\"],[1.0,\"#f0f921\"]]}],\"surface\":[{\"type\":\"surface\",\"colorbar\":{\"outlinewidth\":0,\"ticks\":\"\"},\"colorscale\":[[0.0,\"#0d0887\"],[0.1111111111111111,\"#46039f\"],[0.2222222222222222,\"#7201a8\"],[0.3333333333333333,\"#9c179e\"],[0.4444444444444444,\"#bd3786\"],[0.5555555555555556,\"#d8576b\"],[0.6666666666666666,\"#ed7953\"],[0.7777777777777778,\"#fb9f3a\"],[0.8888888888888888,\"#fdca26\"],[1.0,\"#f0f921\"]]}],\"mesh3d\":[{\"type\":\"mesh3d\",\"colorbar\":{\"outlinewidth\":0,\"ticks\":\"\"}}],\"scatter\":[{\"fillpattern\":{\"fillmode\":\"overlay\",\"size\":10,\"solidity\":0.2},\"type\":\"scatter\"}],\"parcoords\":[{\"type\":\"parcoords\",\"line\":{\"colorbar\":{\"outlinewidth\":0,\"ticks\":\"\"}}}],\"scatterpolargl\":[{\"type\":\"scatterpolargl\",\"marker\":{\"colorbar\":{\"outlinewidth\":0,\"ticks\":\"\"}}}],\"bar\":[{\"error_x\":{\"color\":\"#2a3f5f\"},\"error_y\":{\"color\":\"#2a3f5f\"},\"marker\":{\"line\":{\"color\":\"#E5ECF6\",\"width\":0.5},\"pattern\":{\"fillmode\":\"overlay\",\"size\":10,\"solidity\":0.2}},\"type\":\"bar\"}],\"scattergeo\":[{\"type\":\"scattergeo\",\"marker\":{\"colorbar\":{\"outlinewidth\":0,\"ticks\":\"\"}}}],\"scatterpolar\":[{\"type\":\"scatterpolar\",\"marker\":{\"colorbar\":{\"outlinewidth\":0,\"ticks\":\"\"}}}],\"histogram\":[{\"marker\":{\"pattern\":{\"fillmode\":\"overlay\",\"size\":10,\"solidity\":0.2}},\"type\":\"histogram\"}],\"scattergl\":[{\"type\":\"scattergl\",\"marker\":{\"colorbar\":{\"outlinewidth\":0,\"ticks\":\"\"}}}],\"scatter3d\":[{\"type\":\"scatter3d\",\"line\":{\"colorbar\":{\"outlinewidth\":0,\"ticks\":\"\"}},\"marker\":{\"colorbar\":{\"outlinewidth\":0,\"ticks\":\"\"}}}],\"scattermapbox\":[{\"type\":\"scattermapbox\",\"marker\":{\"colorbar\":{\"outlinewidth\":0,\"ticks\":\"\"}}}],\"scatterternary\":[{\"type\":\"scatterternary\",\"marker\":{\"colorbar\":{\"outlinewidth\":0,\"ticks\":\"\"}}}],\"scattercarpet\":[{\"type\":\"scattercarpet\",\"marker\":{\"colorbar\":{\"outlinewidth\":0,\"ticks\":\"\"}}}],\"carpet\":[{\"aaxis\":{\"endlinecolor\":\"#2a3f5f\",\"gridcolor\":\"white\",\"linecolor\":\"white\",\"minorgridcolor\":\"white\",\"startlinecolor\":\"#2a3f5f\"},\"baxis\":{\"endlinecolor\":\"#2a3f5f\",\"gridcolor\":\"white\",\"linecolor\":\"white\",\"minorgridcolor\":\"white\",\"startlinecolor\":\"#2a3f5f\"},\"type\":\"carpet\"}],\"table\":[{\"cells\":{\"fill\":{\"color\":\"#EBF0F8\"},\"line\":{\"color\":\"white\"}},\"header\":{\"fill\":{\"color\":\"#C8D4E3\"},\"line\":{\"color\":\"white\"}},\"type\":\"table\"}],\"barpolar\":[{\"marker\":{\"line\":{\"color\":\"#E5ECF6\",\"width\":0.5},\"pattern\":{\"fillmode\":\"overlay\",\"size\":10,\"solidity\":0.2}},\"type\":\"barpolar\"}],\"pie\":[{\"automargin\":true,\"type\":\"pie\"}]},\"layout\":{\"autotypenumbers\":\"strict\",\"colorway\":[\"#636efa\",\"#EF553B\",\"#00cc96\",\"#ab63fa\",\"#FFA15A\",\"#19d3f3\",\"#FF6692\",\"#B6E880\",\"#FF97FF\",\"#FECB52\"],\"font\":{\"color\":\"#2a3f5f\"},\"hovermode\":\"closest\",\"hoverlabel\":{\"align\":\"left\"},\"paper_bgcolor\":\"white\",\"plot_bgcolor\":\"#E5ECF6\",\"polar\":{\"bgcolor\":\"#E5ECF6\",\"angularaxis\":{\"gridcolor\":\"white\",\"linecolor\":\"white\",\"ticks\":\"\"},\"radialaxis\":{\"gridcolor\":\"white\",\"linecolor\":\"white\",\"ticks\":\"\"}},\"ternary\":{\"bgcolor\":\"#E5ECF6\",\"aaxis\":{\"gridcolor\":\"white\",\"linecolor\":\"white\",\"ticks\":\"\"},\"baxis\":{\"gridcolor\":\"white\",\"linecolor\":\"white\",\"ticks\":\"\"},\"caxis\":{\"gridcolor\":\"white\",\"linecolor\":\"white\",\"ticks\":\"\"}},\"coloraxis\":{\"colorbar\":{\"outlinewidth\":0,\"ticks\":\"\"}},\"colorscale\":{\"sequential\":[[0.0,\"#0d0887\"],[0.1111111111111111,\"#46039f\"],[0.2222222222222222,\"#7201a8\"],[0.3333333333333333,\"#9c179e\"],[0.4444444444444444,\"#bd3786\"],[0.5555555555555556,\"#d8576b\"],[0.6666666666666666,\"#ed7953\"],[0.7777777777777778,\"#fb9f3a\"],[0.8888888888888888,\"#fdca26\"],[1.0,\"#f0f921\"]],\"sequentialminus\":[[0.0,\"#0d0887\"],[0.1111111111111111,\"#46039f\"],[0.2222222222222222,\"#7201a8\"],[0.3333333333333333,\"#9c179e\"],[0.4444444444444444,\"#bd3786\"],[0.5555555555555556,\"#d8576b\"],[0.6666666666666666,\"#ed7953\"],[0.7777777777777778,\"#fb9f3a\"],[0.8888888888888888,\"#fdca26\"],[1.0,\"#f0f921\"]],\"diverging\":[[0,\"#8e0152\"],[0.1,\"#c51b7d\"],[0.2,\"#de77ae\"],[0.3,\"#f1b6da\"],[0.4,\"#fde0ef\"],[0.5,\"#f7f7f7\"],[0.6,\"#e6f5d0\"],[0.7,\"#b8e186\"],[0.8,\"#7fbc41\"],[0.9,\"#4d9221\"],[1,\"#276419\"]]},\"xaxis\":{\"gridcolor\":\"white\",\"linecolor\":\"white\",\"ticks\":\"\",\"title\":{\"standoff\":15},\"zerolinecolor\":\"white\",\"automargin\":true,\"zerolinewidth\":2},\"yaxis\":{\"gridcolor\":\"white\",\"linecolor\":\"white\",\"ticks\":\"\",\"title\":{\"standoff\":15},\"zerolinecolor\":\"white\",\"automargin\":true,\"zerolinewidth\":2},\"scene\":{\"xaxis\":{\"backgroundcolor\":\"#E5ECF6\",\"gridcolor\":\"white\",\"linecolor\":\"white\",\"showbackground\":true,\"ticks\":\"\",\"zerolinecolor\":\"white\",\"gridwidth\":2},\"yaxis\":{\"backgroundcolor\":\"#E5ECF6\",\"gridcolor\":\"white\",\"linecolor\":\"white\",\"showbackground\":true,\"ticks\":\"\",\"zerolinecolor\":\"white\",\"gridwidth\":2},\"zaxis\":{\"backgroundcolor\":\"#E5ECF6\",\"gridcolor\":\"white\",\"linecolor\":\"white\",\"showbackground\":true,\"ticks\":\"\",\"zerolinecolor\":\"white\",\"gridwidth\":2}},\"shapedefaults\":{\"line\":{\"color\":\"#2a3f5f\"}},\"annotationdefaults\":{\"arrowcolor\":\"#2a3f5f\",\"arrowhead\":0,\"arrowwidth\":1},\"geo\":{\"bgcolor\":\"white\",\"landcolor\":\"#E5ECF6\",\"subunitcolor\":\"white\",\"showland\":true,\"showlakes\":true,\"lakecolor\":\"white\"},\"title\":{\"x\":0.05},\"mapbox\":{\"style\":\"light\"}}},\"legend\":{\"tracegroupgap\":0,\"title\":{\"text\":\"Categories\"}},\"title\":{\"text\":\"Distribution of News Categories\",\"font\":{\"size\":24,\"color\":\"black\"}},\"piecolorway\":[\"rgb(141,211,199)\",\"rgb(255,255,179)\",\"rgb(190,186,218)\",\"rgb(251,128,114)\",\"rgb(128,177,211)\",\"rgb(253,180,98)\",\"rgb(179,222,105)\",\"rgb(252,205,229)\",\"rgb(217,217,217)\",\"rgb(188,128,189)\",\"rgb(204,235,197)\",\"rgb(255,237,111)\"],\"width\":1000,\"height\":800},                        {\"responsive\": true}                    ).then(function(){\n",
       "                            \n",
       "var gd = document.getElementById('5e89481c-5a31-42cd-8fab-1732277269e3');\n",
       "var x = new MutationObserver(function (mutations, observer) {{\n",
       "        var display = window.getComputedStyle(gd).display;\n",
       "        if (!display || display === 'none') {{\n",
       "            console.log([gd, 'removed!']);\n",
       "            Plotly.purge(gd);\n",
       "            observer.disconnect();\n",
       "        }}\n",
       "}});\n",
       "\n",
       "// Listen for the removal of the full notebook cells\n",
       "var notebookContainer = gd.closest('#notebook-container');\n",
       "if (notebookContainer) {{\n",
       "    x.observe(notebookContainer, {childList: true});\n",
       "}}\n",
       "\n",
       "// Listen for the clearing of the current output cell\n",
       "var outputEl = gd.closest('.output');\n",
       "if (outputEl) {{\n",
       "    x.observe(outputEl, {childList: true});\n",
       "}}\n",
       "\n",
       "                        })                };                });            </script>        </div>"
      ]
     },
     "metadata": {},
     "output_type": "display_data"
    }
   ],
   "source": [
    "#distribution of news categories\n",
    "category_counts = df['News Category'].value_counts().reset_index()\n",
    "category_counts.columns = ['News Category', 'Count']\n",
    "\n",
    "fig = px.pie(category_counts, values='Count', names='News Category', \n",
    "             title='Distribution of News Categories',\n",
    "             color_discrete_sequence=px.colors.qualitative.Set3)\n",
    "fig.update_traces(textinfo='percent+label', textfont_size=15)\n",
    "fig.update_layout(title_font_size=24, title_font_color='black', legend_title_text='Categories', width=1000, height=800)\n",
    "fig.show()"
   ]
  },
  {
   "cell_type": "markdown",
   "id": "1c571cee-2ae4-4037-861b-243a843fa8a7",
   "metadata": {},
   "source": [
    "### Feature Engineering"
   ]
  },
  {
   "cell_type": "code",
   "execution_count": 35,
   "id": "7e0de53d-f4c3-4df4-bb40-2e5c8bda4631",
   "metadata": {},
   "outputs": [],
   "source": [
    "#dropping the rows where 'Products.short_description' is missing\n",
    "df=df.dropna(subset=['Summary'],how='any')"
   ]
  },
  {
   "cell_type": "code",
   "execution_count": 36,
   "id": "e9d0b7ad-4cbb-49c3-b222-9b7481275042",
   "metadata": {},
   "outputs": [],
   "source": [
    "#reseting the index of the DataFrame\n",
    "df=df.reset_index(drop=True)"
   ]
  },
  {
   "cell_type": "code",
   "execution_count": 37,
   "id": "3e547ff3-47d1-4b29-a386-651fd253b7e1",
   "metadata": {},
   "outputs": [],
   "source": [
    "#text cleaning\n",
    "def clean_text(column):\n",
    "    column = column.str.lower()\n",
    "    column = column.str.replace(r'[^\\w\\s]', '', regex=True)\n",
    "    column = column.str.replace(r'\\d+', '', regex=True)\n",
    "    column = column.str.replace('\\n', '', regex=True)\n",
    "    column = column.str.replace('\\r', '', regex=True)\n",
    "    return column\n",
    "\n",
    "df['Summary'] = clean_text(df['Summary'])"
   ]
  },
  {
   "cell_type": "code",
   "execution_count": 38,
   "id": "e9870c07-faac-458b-b0cc-9fdb459183a5",
   "metadata": {},
   "outputs": [],
   "source": [
    "#initializing a list to hold filtered texts\n",
    "filtered_texts = []\n",
    "\n",
    "#tokenization and stopword removal for the 'Summary' column\n",
    "for summary in df['Summary']:\n",
    "    tokens = word_tokenize(summary)\n",
    "    stop_words = set(stopwords.words('english'))\n",
    "    filtered_tokens = [word for word in tokens if word.lower() not in stop_words]\n",
    "\n",
    "    filtered_text = ' '.join(filtered_tokens)\n",
    "    filtered_texts.append(filtered_text)\n",
    "\n",
    "#adding a new column to the DataFrame with the cleaned text\n",
    "df['filtered_summary'] = filtered_texts"
   ]
  },
  {
   "cell_type": "code",
   "execution_count": 39,
   "id": "a7cf1557-2a4e-416d-880e-e9b4242d4b75",
   "metadata": {},
   "outputs": [
    {
     "data": {
      "text/plain": [
       "'see favorite stars looked like school find kind students'"
      ]
     },
     "execution_count": 39,
     "metadata": {},
     "output_type": "execute_result"
    }
   ],
   "source": [
    "df['filtered_summary'][3500]"
   ]
  },
  {
   "cell_type": "code",
   "execution_count": 40,
   "id": "4428e32f-1472-4255-ace3-e631252d8e61",
   "metadata": {},
   "outputs": [],
   "source": [
    "#TF-IDF vectorization\n",
    "tfidf_vect = TfidfVectorizer(stop_words='english' )\n",
    "tfidf_matrix = tfidf_vect.fit_transform(df['filtered_summary']) #fitting and transforming the filtered descriptions into a TF-IDF matrix"
   ]
  },
  {
   "cell_type": "code",
   "execution_count": 41,
   "id": "0bee54a0-c73f-4e26-bad0-ef116fb6f526",
   "metadata": {},
   "outputs": [],
   "source": [
    "tfidf_df = pd.DataFrame.sparse.from_spmatrix(tfidf_matrix) #creating a sparse dataframe from the TF-IDF matrix"
   ]
  },
  {
   "cell_type": "code",
   "execution_count": 42,
   "id": "e91d00d7-83cc-473c-a91c-70df9d7b832b",
   "metadata": {},
   "outputs": [
    {
     "data": {
      "text/plain": [
       "(96112, 80753)"
      ]
     },
     "execution_count": 42,
     "metadata": {},
     "output_type": "execute_result"
    }
   ],
   "source": [
    "tfidf_df.shape"
   ]
  },
  {
   "cell_type": "code",
   "execution_count": 43,
   "id": "b5d2c68c-5fc1-4380-80cf-d0456a8bd630",
   "metadata": {},
   "outputs": [],
   "source": [
    "#combining dataframes\n",
    "df = pd.concat([df, tfidf_df], axis=1)"
   ]
  },
  {
   "cell_type": "code",
   "execution_count": 44,
   "id": "11d7d308-d9b6-44c7-9ce0-ac98188ce4dd",
   "metadata": {},
   "outputs": [
    {
     "data": {
      "text/html": [
       "<div>\n",
       "<style scoped>\n",
       "    .dataframe tbody tr th:only-of-type {\n",
       "        vertical-align: middle;\n",
       "    }\n",
       "\n",
       "    .dataframe tbody tr th {\n",
       "        vertical-align: top;\n",
       "    }\n",
       "\n",
       "    .dataframe thead th {\n",
       "        text-align: right;\n",
       "    }\n",
       "</style>\n",
       "<table border=\"1\" class=\"dataframe\">\n",
       "  <thead>\n",
       "    <tr style=\"text-align: right;\">\n",
       "      <th></th>\n",
       "      <th>ID</th>\n",
       "      <th>News Category</th>\n",
       "      <th>Title</th>\n",
       "      <th>Summary</th>\n",
       "      <th>filtered_summary</th>\n",
       "      <th>0</th>\n",
       "      <th>1</th>\n",
       "      <th>2</th>\n",
       "      <th>3</th>\n",
       "      <th>4</th>\n",
       "      <th>...</th>\n",
       "      <th>80743</th>\n",
       "      <th>80744</th>\n",
       "      <th>80745</th>\n",
       "      <th>80746</th>\n",
       "      <th>80747</th>\n",
       "      <th>80748</th>\n",
       "      <th>80749</th>\n",
       "      <th>80750</th>\n",
       "      <th>80751</th>\n",
       "      <th>80752</th>\n",
       "    </tr>\n",
       "  </thead>\n",
       "  <tbody>\n",
       "    <tr>\n",
       "      <th>791</th>\n",
       "      <td>N102670</td>\n",
       "      <td>news</td>\n",
       "      <td>15-year-old killed in suspected DUI crash in P...</td>\n",
       "      <td>a carmichael man was arrested on suspicion of ...</td>\n",
       "      <td>carmichael man arrested suspicion dui crashed ...</td>\n",
       "      <td>0.0</td>\n",
       "      <td>0.0</td>\n",
       "      <td>0.0</td>\n",
       "      <td>0.0</td>\n",
       "      <td>0.0</td>\n",
       "      <td>...</td>\n",
       "      <td>0.0</td>\n",
       "      <td>0.0</td>\n",
       "      <td>0.0</td>\n",
       "      <td>0.0</td>\n",
       "      <td>0.0</td>\n",
       "      <td>0.0</td>\n",
       "      <td>0.0</td>\n",
       "      <td>0.0</td>\n",
       "      <td>0.0</td>\n",
       "      <td>0.0</td>\n",
       "    </tr>\n",
       "    <tr>\n",
       "      <th>65161</th>\n",
       "      <td>N28114</td>\n",
       "      <td>travel</td>\n",
       "      <td>Firefighter taken to hospital battling 2nd fir...</td>\n",
       "      <td>firefighters were battling a fire in lewiston ...</td>\n",
       "      <td>firefighters battling fire lewiston wednesday ...</td>\n",
       "      <td>0.0</td>\n",
       "      <td>0.0</td>\n",
       "      <td>0.0</td>\n",
       "      <td>0.0</td>\n",
       "      <td>0.0</td>\n",
       "      <td>...</td>\n",
       "      <td>0.0</td>\n",
       "      <td>0.0</td>\n",
       "      <td>0.0</td>\n",
       "      <td>0.0</td>\n",
       "      <td>0.0</td>\n",
       "      <td>0.0</td>\n",
       "      <td>0.0</td>\n",
       "      <td>0.0</td>\n",
       "      <td>0.0</td>\n",
       "      <td>0.0</td>\n",
       "    </tr>\n",
       "    <tr>\n",
       "      <th>9190</th>\n",
       "      <td>N1683</td>\n",
       "      <td>video</td>\n",
       "      <td>Kitten About to Fall Asleep in Coffee Mug</td>\n",
       "      <td>one very sleepy kitty looked like it needed co...</td>\n",
       "      <td>one sleepy kitty looked like needed coffee tar...</td>\n",
       "      <td>0.0</td>\n",
       "      <td>0.0</td>\n",
       "      <td>0.0</td>\n",
       "      <td>0.0</td>\n",
       "      <td>0.0</td>\n",
       "      <td>...</td>\n",
       "      <td>0.0</td>\n",
       "      <td>0.0</td>\n",
       "      <td>0.0</td>\n",
       "      <td>0.0</td>\n",
       "      <td>0.0</td>\n",
       "      <td>0.0</td>\n",
       "      <td>0.0</td>\n",
       "      <td>0.0</td>\n",
       "      <td>0.0</td>\n",
       "      <td>0.0</td>\n",
       "    </tr>\n",
       "    <tr>\n",
       "      <th>9908</th>\n",
       "      <td>N44225</td>\n",
       "      <td>tv</td>\n",
       "      <td>Ashton Kutcher's new reality show wants to giv...</td>\n",
       "      <td>ashton kutchers new reality show wants to give...</td>\n",
       "      <td>ashton kutchers new reality show wants give fi...</td>\n",
       "      <td>0.0</td>\n",
       "      <td>0.0</td>\n",
       "      <td>0.0</td>\n",
       "      <td>0.0</td>\n",
       "      <td>0.0</td>\n",
       "      <td>...</td>\n",
       "      <td>0.0</td>\n",
       "      <td>0.0</td>\n",
       "      <td>0.0</td>\n",
       "      <td>0.0</td>\n",
       "      <td>0.0</td>\n",
       "      <td>0.0</td>\n",
       "      <td>0.0</td>\n",
       "      <td>0.0</td>\n",
       "      <td>0.0</td>\n",
       "      <td>0.0</td>\n",
       "    </tr>\n",
       "    <tr>\n",
       "      <th>49157</th>\n",
       "      <td>N1110</td>\n",
       "      <td>health</td>\n",
       "      <td>Mom of Two Shares Her Breast Cancer Battle: 'G...</td>\n",
       "      <td>jennie smythe had no idea her life was about t...</td>\n",
       "      <td>jennie smythe idea life change walked routine ...</td>\n",
       "      <td>0.0</td>\n",
       "      <td>0.0</td>\n",
       "      <td>0.0</td>\n",
       "      <td>0.0</td>\n",
       "      <td>0.0</td>\n",
       "      <td>...</td>\n",
       "      <td>0.0</td>\n",
       "      <td>0.0</td>\n",
       "      <td>0.0</td>\n",
       "      <td>0.0</td>\n",
       "      <td>0.0</td>\n",
       "      <td>0.0</td>\n",
       "      <td>0.0</td>\n",
       "      <td>0.0</td>\n",
       "      <td>0.0</td>\n",
       "      <td>0.0</td>\n",
       "    </tr>\n",
       "  </tbody>\n",
       "</table>\n",
       "<p>5 rows × 80758 columns</p>\n",
       "</div>"
      ],
      "text/plain": [
       "            ID News Category  \\\n",
       "791    N102670          news   \n",
       "65161   N28114        travel   \n",
       "9190     N1683         video   \n",
       "9908    N44225            tv   \n",
       "49157    N1110        health   \n",
       "\n",
       "                                                   Title  \\\n",
       "791    15-year-old killed in suspected DUI crash in P...   \n",
       "65161  Firefighter taken to hospital battling 2nd fir...   \n",
       "9190           Kitten About to Fall Asleep in Coffee Mug   \n",
       "9908   Ashton Kutcher's new reality show wants to giv...   \n",
       "49157  Mom of Two Shares Her Breast Cancer Battle: 'G...   \n",
       "\n",
       "                                                 Summary  \\\n",
       "791    a carmichael man was arrested on suspicion of ...   \n",
       "65161  firefighters were battling a fire in lewiston ...   \n",
       "9190   one very sleepy kitty looked like it needed co...   \n",
       "9908   ashton kutchers new reality show wants to give...   \n",
       "49157  jennie smythe had no idea her life was about t...   \n",
       "\n",
       "                                        filtered_summary    0    1    2    3  \\\n",
       "791    carmichael man arrested suspicion dui crashed ...  0.0  0.0  0.0  0.0   \n",
       "65161  firefighters battling fire lewiston wednesday ...  0.0  0.0  0.0  0.0   \n",
       "9190   one sleepy kitty looked like needed coffee tar...  0.0  0.0  0.0  0.0   \n",
       "9908   ashton kutchers new reality show wants give fi...  0.0  0.0  0.0  0.0   \n",
       "49157  jennie smythe idea life change walked routine ...  0.0  0.0  0.0  0.0   \n",
       "\n",
       "         4  ...  80743  80744  80745  80746  80747  80748  80749  80750  \\\n",
       "791    0.0  ...    0.0    0.0    0.0    0.0    0.0    0.0    0.0    0.0   \n",
       "65161  0.0  ...    0.0    0.0    0.0    0.0    0.0    0.0    0.0    0.0   \n",
       "9190   0.0  ...    0.0    0.0    0.0    0.0    0.0    0.0    0.0    0.0   \n",
       "9908   0.0  ...    0.0    0.0    0.0    0.0    0.0    0.0    0.0    0.0   \n",
       "49157  0.0  ...    0.0    0.0    0.0    0.0    0.0    0.0    0.0    0.0   \n",
       "\n",
       "       80751  80752  \n",
       "791      0.0    0.0  \n",
       "65161    0.0    0.0  \n",
       "9190     0.0    0.0  \n",
       "9908     0.0    0.0  \n",
       "49157    0.0    0.0  \n",
       "\n",
       "[5 rows x 80758 columns]"
      ]
     },
     "execution_count": 44,
     "metadata": {},
     "output_type": "execute_result"
    }
   ],
   "source": [
    "df.sample(5)"
   ]
  },
  {
   "cell_type": "markdown",
   "id": "588729ad-e561-4bda-86ee-3611265f2e73",
   "metadata": {},
   "source": [
    "### Utilizing cosine similarity with 10% of the data through random sampling"
   ]
  },
  {
   "cell_type": "code",
   "execution_count": 45,
   "id": "f02b131b-2a1e-41e8-89a2-7ab455bbdc20",
   "metadata": {
    "scrolled": true
   },
   "outputs": [
    {
     "name": "stdout",
     "output_type": "stream",
     "text": [
      "       32561  52625  55515     95751     36140     19848  40845  84898  \\\n",
      "32561    1.0    0.0    0.0  0.000000  0.000000  0.000000    0.0    0.0   \n",
      "52625    0.0    1.0    0.0  0.000000  0.000000  0.000000    0.0    0.0   \n",
      "55515    0.0    0.0    1.0  0.000000  0.000000  0.000000    0.0    0.0   \n",
      "95751    0.0    0.0    0.0  1.000000  0.000000  0.008518    0.0    0.0   \n",
      "36140    0.0    0.0    0.0  0.000000  1.000000  0.000000    0.0    0.0   \n",
      "...      ...    ...    ...       ...       ...       ...    ...    ...   \n",
      "47354    0.0    0.0    0.0  0.017131  0.000000  0.000000    0.0    0.0   \n",
      "65559    0.0    0.0    0.0  0.000000  0.009905  0.044247    0.0    0.0   \n",
      "7620     0.0    0.0    0.0  0.000000  0.000000  0.000000    0.0    0.0   \n",
      "17906    0.0    0.0    0.0  0.000000  0.000000  0.038158    0.0    0.0   \n",
      "25670    0.0    0.0    0.0  0.000000  0.000000  0.000000    0.0    0.0   \n",
      "\n",
      "          49435     22585  ...     8887      29217     35601     90165  \\\n",
      "32561  0.000000  0.000000  ...  0.000000  0.000000  0.000000  0.000000   \n",
      "52625  0.019448  0.000000  ...  0.000000  0.037039  0.000000  0.000000   \n",
      "55515  0.000000  0.000000  ...  0.000000  0.000000  0.000000  0.000000   \n",
      "95751  0.022975  0.000000  ...  0.000000  0.008007  0.000000  0.000000   \n",
      "36140  0.000000  0.000000  ...  0.000000  0.008865  0.000000  0.000000   \n",
      "...         ...       ...  ...       ...       ...       ...       ...   \n",
      "47354  0.000000  0.000000  ...  0.000000  0.000000  0.000000  0.000000   \n",
      "65559  0.000000  0.008963  ...  0.007112  0.000000  0.000000  0.000000   \n",
      "7620   0.000000  0.023838  ...  0.000000  0.000000  0.000000  0.000000   \n",
      "17906  0.030452  0.000000  ...  0.000000  0.000000  0.000000  0.067801   \n",
      "25670  0.000000  0.000000  ...  0.000000  0.008947  0.023171  0.010546   \n",
      "\n",
      "          11838     47354     65559     7620      17906     25670  \n",
      "32561  0.000000  0.000000  0.000000  0.000000  0.000000  0.000000  \n",
      "52625  0.000000  0.000000  0.000000  0.000000  0.000000  0.000000  \n",
      "55515  0.000000  0.000000  0.000000  0.000000  0.000000  0.000000  \n",
      "95751  0.000000  0.017131  0.000000  0.000000  0.000000  0.000000  \n",
      "36140  0.018828  0.000000  0.009905  0.000000  0.000000  0.000000  \n",
      "...         ...       ...       ...       ...       ...       ...  \n",
      "47354  0.000000  1.000000  0.012901  0.022022  0.000000  0.000000  \n",
      "65559  0.000000  0.012901  1.000000  0.000000  0.000000  0.000000  \n",
      "7620   0.000000  0.022022  0.000000  1.000000  0.000000  0.000000  \n",
      "17906  0.000000  0.000000  0.000000  0.000000  1.000000  0.051598  \n",
      "25670  0.000000  0.000000  0.000000  0.000000  0.051598  1.000000  \n",
      "\n",
      "[9611 rows x 9611 columns]\n"
     ]
    }
   ],
   "source": [
    "sampled_df = df.sample(frac=0.1, random_state=42)  \n",
    "\n",
    "#TF-IDF vectorization\n",
    "tfidf_vect = TfidfVectorizer(stop_words='english')\n",
    "tfidf_matrix = tfidf_vect.fit_transform(sampled_df['filtered_summary'])\n",
    "\n",
    "#calculating the cosine similarity\n",
    "cosine_sim = cosine_similarity(tfidf_matrix)\n",
    "\n",
    "#creating a DataFrame for sosine similarity**\n",
    "cosine_sim_df = pd.DataFrame(cosine_sim, columns=sampled_df.index, index=sampled_df.index)\n",
    "print(cosine_sim_df)"
   ]
  },
  {
   "cell_type": "markdown",
   "id": "550f125e-24b7-403b-918f-2a0dadfc8d4e",
   "metadata": {},
   "source": [
    "### Finding the 5 most similar rows in the summary column"
   ]
  },
  {
   "cell_type": "code",
   "execution_count": 47,
   "id": "20b08563-21d6-465d-9786-1af912623066",
   "metadata": {
    "scrolled": true
   },
   "outputs": [
    {
     "name": "stdout",
     "output_type": "stream",
     "text": [
      "summary 2984 is most similar to the following 5 summaries: [7931 9136  214 3552 1894]\n",
      "summary 9216 is most similar to the following 5 summaries: [6538 9545 2322 5148 6324]\n",
      "summary 6296 is most similar to the following 5 summaries: [1775 4665  540 2550 9065]\n",
      "summary 4140 is most similar to the following 5 summaries: [9519  208 2153 5462 5885]\n",
      "summary 3548 is most similar to the following 5 summaries: [6302 7884 6923 6441 4752]\n",
      "summary 9127 is most similar to the following 5 summaries: [6436 6998 8028 3049  809]\n",
      "summary 3421 is most similar to the following 5 summaries: [ 543 9017 4756  207   79]\n",
      "summary 8088 is most similar to the following 5 summaries: [2812 6668 5639 5995 2076]\n",
      "summary 8772 is most similar to the following 5 summaries: [5638 3124 5218 6179 2707]\n",
      "summary 452 is most similar to the following 5 summaries: [6178 7959  728 1250  717]\n"
     ]
    }
   ],
   "source": [
    "N = 5\n",
    "similar_summaries = {}\n",
    "for idx in range(cosine_sim.shape[0]):\n",
    "    similar_indices = cosine_sim[idx].argsort()[-(N+1):-1][::-1]\n",
    "    similar_summaries[idx] = similar_indices\n",
    "\n",
    "sampled_docs = random.sample(list(similar_summaries.keys()), min(10, len(similar_summaries)))\n",
    "for doc_idx in sampled_docs:\n",
    "    similar_idx = similar_summaries[doc_idx]\n",
    "    print(f\"summary {doc_idx} is most similar to the following {N} summaries: {similar_idx}\")"
   ]
  },
  {
   "cell_type": "markdown",
   "id": "6368ae7b-fbd2-4ccf-bcc8-f784fddc3d96",
   "metadata": {},
   "source": [
    "### Analyzing the similarities found using cosine similarity"
   ]
  },
  {
   "cell_type": "code",
   "execution_count": 48,
   "id": "87df2d6a-1c9e-46e2-81fd-e3a1432399af",
   "metadata": {},
   "outputs": [
    {
     "name": "stdout",
     "output_type": "stream",
     "text": [
      "summary 0: 'homewood memorial gardens is a south suburban cemetery that made headlines for all the wrong reasons back in  now some people with loved ones buried there say there are still problems today' is most similar to the following summaries:\n",
      " - summary 84: 'the battle over a pet cemetery in baltimore county is mounting as its owner faces an ultimatum dozens of pets are buried in the oakleigh pet cemetery in parkville which has  acres of property filled with tombstones many of which are cracked and unkempt but all with names of beloved pets sign up for our newsletters the cemetery dates back to the s when families would bury their pets in grand fashion cynthia eisenrauch grew up across'\n",
      " - summary 5884: 'the riverdale star died in march of a massive stroke and his loved ones have paid tribute in many ways in the months since'\n",
      " - summary 640: 'recently one operator said he was driving tired after  hours on shift and accidentally took a wrong turn dropping off a train full of people at the wrong station'\n",
      " - summary 6022: 'this time capsule was first buried in  it was publicly unveiled wednesday'\n",
      " - summary 6037: 'lets get to your monday headlines'\n"
     ]
    }
   ],
   "source": [
    "similar_indices = [84, 5884, 640, 6022, 6037]\n",
    "summary_0_text = sampled_df['Summary'].iloc[0]\n",
    "print(f\"summary 0: '{summary_0_text}' is most similar to the following summaries:\")\n",
    "\n",
    "for index in similar_indices:\n",
    "    if index < len(sampled_df):\n",
    "        similar_text = sampled_df['Summary'].iloc[index]\n",
    "        print(f\" - summary {index}: '{similar_text}'\")"
   ]
  },
  {
   "cell_type": "code",
   "execution_count": 49,
   "id": "a6f86171-7998-4d89-a379-556fdea98e43",
   "metadata": {},
   "outputs": [
    {
     "name": "stdout",
     "output_type": "stream",
     "text": [
      "summary 1: 'danielle niles has your latest weather forecast' is most similar to the following summaries:\n",
      " - summary 2278: 'meteorologist danielle niles celebrated her final day at wbztv thursday morning with a surprise from her daughter charlotte'\n",
      " - summary 2528: 'zack green has your latest weather forecast'\n",
      " - summary 6084: 'david epstein has your latest weather forecast'\n",
      " - summary 8654: 'sarah wroblewski has your latest weather forecast'\n",
      " - summary 9384: 'barry burbank has your latest weather forecast'\n"
     ]
    }
   ],
   "source": [
    "similar_indices = [2278, 2528, 6084, 8654, 9384] \n",
    "summary_1_text = sampled_df['Summary'].iloc[1]\n",
    "print(f\"summary 1: '{summary_1_text}' is most similar to the following summaries:\")\n",
    "\n",
    "for index in similar_indices:\n",
    "    if index < len(df):\n",
    "        similar_text = sampled_df['Summary'].iloc[index]\n",
    "        print(f\" - summary {index}: '{similar_text}'\")"
   ]
  },
  {
   "cell_type": "code",
   "execution_count": 50,
   "id": "89832524-8a80-4651-8bd4-83a055b64259",
   "metadata": {},
   "outputs": [
    {
     "name": "stdout",
     "output_type": "stream",
     "text": [
      "summary 125: 'danielle niles has your latest weather forecast' is most similar to the following summaries:\n",
      " - summary 3257: 'on the road to  again'\n",
      " - summary 3575: 'north glebe road has reopened to traffic near chain bridge following fridays water main break officials said crews will return to the area for followup work on the roadway and the inch pipe that broke the inch pipe broke on chain bridge road and glebe road in arlington virginia causing a boil water advisory for northwest dc and arlington county fairfax county police said chain bridge road reopened after route  near the'\n",
      " - summary 4535: 'the mount hope bridge which connects portsmouth and bristol opened on oct   it was the longest suspension bridge in new england until the newport pell bridge opened in june '\n",
      " - summary 4177: 'the trucks brakes failed as the driver was traveling up a hill on myrtle avenue in englewood authorities said'\n",
      " - summary 1621: 'salt trucks are in place after rain changed to snow overnight and temperatures are now dipping below freezing ahead of the morning commute in pittsburgh allegheny county public works said it planned to dispatch  trucks overnight to salt countyowned roads and bridges sign up for our newsletters penndot had previously said it would be deploying  trucks overnight with rentals supplementing their crews because the system started as rain'\n"
     ]
    }
   ],
   "source": [
    "similar_indices = [3257, 3575, 4535, 4177, 1621]\n",
    "summary_125_text = sampled_df['Summary'].iloc[1]\n",
    "print(f\"summary 125: '{summary_125_text}' is most similar to the following summaries:\")\n",
    "\n",
    "for index in similar_indices:\n",
    "    if index < len(df):\n",
    "        similar_text = sampled_df['Summary'].iloc[index]\n",
    "        print(f\" - summary {index}: '{similar_text}'\")"
   ]
  },
  {
   "cell_type": "code",
   "execution_count": 51,
   "id": "495fa69c-07bf-47f4-aa7b-fee98dd73b13",
   "metadata": {},
   "outputs": [
    {
     "name": "stdout",
     "output_type": "stream",
     "text": [
      "Top 5 similar summaries:\n",
      "Summary 1756 is similar to Summary 5346 (Score: 1.00)\n",
      "Summary 8968 is similar to Summary 9493 (Score: 1.00)\n",
      "Summary 306 is similar to Summary 6065 (Score: 1.00)\n",
      "Summary 353 is similar to Summary 1242 (Score: 1.00)\n",
      "Summary 759 is similar to Summary 988 (Score: 1.00)\n"
     ]
    }
   ],
   "source": [
    "#top similar 5 summaries\n",
    "N = 5\n",
    "all_similarities = []\n",
    "\n",
    "for idx in range(len(cosine_sim)):\n",
    "    similar_indices = cosine_sim[idx].argsort()[-(N+1):-1][::-1]\n",
    "    similar_scores = cosine_sim[idx][similar_indices]\n",
    "    for sim_idx, score in zip(similar_indices, similar_scores):\n",
    "        if sim_idx != idx:\n",
    "            all_similarities.append((idx, sim_idx, score))\n",
    "\n",
    "all_similarities.sort(key=lambda x: x[2], reverse=True)\n",
    "\n",
    "print(f\"Top {N} similar summaries:\")\n",
    "for doc_idx, sim_idx, score in all_similarities[:N]:\n",
    "    print(f\"Summary {doc_idx} is similar to Summary {sim_idx} (Score: {score:.2f})\")"
   ]
  },
  {
   "cell_type": "code",
   "execution_count": 53,
   "id": "87522187-ad95-4961-847b-43d8f31403f8",
   "metadata": {
    "scrolled": true
   },
   "outputs": [
    {
     "name": "stdout",
     "output_type": "stream",
     "text": [
      "summary 6060 similar summaries and scores:\n",
      " - summary 5614 (Score: 0.23)\n",
      " - summary 7520 (Score: 0.22)\n",
      " - summary 6844 (Score: 0.21)\n",
      " - summary 5586 (Score: 0.18)\n",
      " - summary 5120 (Score: 0.18)\n",
      "summary 4029 similar summaries and scores:\n",
      " - summary 3842 (Score: 0.17)\n",
      " - summary 1672 (Score: 0.14)\n",
      " - summary 7789 (Score: 0.13)\n",
      " - summary 6433 (Score: 0.13)\n",
      " - summary 4385 (Score: 0.13)\n",
      "summary 4221 similar summaries and scores:\n",
      " - summary 8410 (Score: 0.24)\n",
      " - summary 6753 (Score: 0.22)\n",
      " - summary 6317 (Score: 0.18)\n",
      " - summary 8849 (Score: 0.18)\n",
      " - summary 2023 (Score: 0.18)\n",
      "summary 8875 similar summaries and scores:\n",
      " - summary 3723 (Score: 0.18)\n",
      " - summary 9003 (Score: 0.16)\n",
      " - summary 6357 (Score: 0.16)\n",
      " - summary 5638 (Score: 0.16)\n",
      " - summary 6193 (Score: 0.14)\n",
      "summary 3779 similar summaries and scores:\n",
      " - summary 6305 (Score: 0.16)\n",
      " - summary 1919 (Score: 0.15)\n",
      " - summary 2005 (Score: 0.15)\n",
      " - summary 9484 (Score: 0.13)\n",
      " - summary 6829 (Score: 0.13)\n"
     ]
    }
   ],
   "source": [
    "#similar scores of 5 summaries with the most similar documents\n",
    "summary_indices = list(range(len(cosine_sim)))\n",
    "sampled_docs = random.sample(summary_indices, min(5, len(summary_indices)))\n",
    "\n",
    "for idx in sampled_docs:\n",
    "    similar_indices = cosine_sim[idx].argsort()[-(N+1):-1][::-1]\n",
    "    print(f\"summary {idx} similar summaries and scores:\")\n",
    "    for sim_idx in similar_indices:\n",
    "        print(f\" - summary {sim_idx} (Score: {cosine_sim[idx][sim_idx]:.2f})\")"
   ]
  },
  {
   "cell_type": "markdown",
   "id": "92180968-f179-4605-9307-9382e46ab63f",
   "metadata": {},
   "source": [
    "## Results and Evaluation\n",
    "\n",
    "The analysis revealed significant insights into the similarities among news summaries. Using cosine similarity, we identified the top similar summaries for each article in our dataset. Additionally, the top 5 similar summaries identified for various articles demonstrated the potential for creating a recommendation system that suggests articles based on user interests and reading history.\n",
    "\n",
    "The insights gained from this project have several real-world applications:\n",
    "\n",
    "- **News Aggregation Platforms**: By implementing a content-based recommendation system, news platforms can enhance user engagement by suggesting articles that align with readers' interests, improving the overall user experience.\n",
    "  \n",
    "- **Personalized News Feeds**: Media outlets can utilize our approach to create personalized news feeds for users, tailoring content to individual preferences and past reading behavior.\n",
    "\n",
    "- **Research and Analysis Tools**: Researchers can use this methodology to analyze trends in news reporting, discovering how similar topics are covered across different outlets.\n",
    "\n",
    "By employing these techniques, organizations can not only improve user satisfaction but also drive higher engagement rates, ultimately leading to a more informed and connected audience."
   ]
  }
 ],
 "metadata": {
  "kernelspec": {
   "display_name": "Python 3 (ipykernel)",
   "language": "python",
   "name": "python3"
  },
  "language_info": {
   "codemirror_mode": {
    "name": "ipython",
    "version": 3
   },
   "file_extension": ".py",
   "mimetype": "text/x-python",
   "name": "python",
   "nbconvert_exporter": "python",
   "pygments_lexer": "ipython3",
   "version": "3.12.7"
  }
 },
 "nbformat": 4,
 "nbformat_minor": 5
}
